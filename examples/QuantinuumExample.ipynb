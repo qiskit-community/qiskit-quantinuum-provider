{
 "cells": [
  {
   "cell_type": "markdown",
   "metadata": {},
   "source": [
    "# Qiskit Quantinuum Provider Example"
   ]
  },
  {
   "cell_type": "markdown",
   "metadata": {},
   "source": [
    "This notebook contains an example of circuit submission via the Qiskit Quantinuum Provider.\n",
    "\n",
    "You will need Quantinuum Hardware Systems access to run this notebook. The notebook will prompt you for your password or you can set it in your environment as `QUANTINUUM_API_KEY`."
   ]
  },
  {
   "cell_type": "markdown",
   "metadata": {},
   "source": [
    "## Set up Connection\n",
    "\n",
    "Login to the Quantinuum API using your credentials, choose your device, and check the device status. For information on the devices available see the *Quantinuum Systems User Guide* in the *Examples* tab on the Quantinuum User Portal."
   ]
  },
  {
   "cell_type": "code",
   "execution_count": 1,
   "metadata": {},
   "outputs": [],
   "source": [
    "import numpy as np\n",
    "\n",
    "from qiskit import QuantumCircuit, execute\n",
    "from qiskit_quantinuum import Quantinuum\n",
    "from qiskit.visualization import plot_histogram"
   ]
  },
  {
   "cell_type": "markdown",
   "metadata": {},
   "source": [
    "Load the account credentials. You will be prompted for your password. \n",
    "\n",
    "*Windows Users:* If you get a `RequestsApiError` mentioning an `SSLCertVerificationError` install the following in your python environment, restart your kernel and try again: `pip install python-certifi-win32`."
   ]
  },
  {
   "cell_type": "code",
   "execution_count": 2,
   "metadata": {},
   "outputs": [
    {
     "name": "stdout",
     "output_type": "stream",
     "text": [
      "Enter your password: ········\n",
      "***Successfully logged in***\n"
     ]
    }
   ],
   "source": [
    "# Quantinuum.save_account(user_name=\"first.last@company.com\")\n",
    "Quantinuum.save_account(user_name=\"megan.l.kohagen@quantinuum.com\")\n",
    "Quantinuum.load_account()"
   ]
  },
  {
   "cell_type": "markdown",
   "metadata": {},
   "source": [
    "Look at a list of the available Quantinuum devices."
   ]
  },
  {
   "cell_type": "code",
   "execution_count": null,
   "metadata": {},
   "outputs": [],
   "source": [
    "Quantinuum.backends()"
   ]
  },
  {
   "cell_type": "markdown",
   "metadata": {},
   "source": [
    "Choose the device you'd like to work with and check its status."
   ]
  },
  {
   "cell_type": "code",
   "execution_count": 4,
   "metadata": {},
   "outputs": [
    {
     "name": "stdout",
     "output_type": "stream",
     "text": [
      "H1-2E status : online\n"
     ]
    }
   ],
   "source": [
    "device = 'H1-2E'\n",
    "backend = Quantinuum.get_backend(device)\n",
    "status = backend.status()\n",
    "\n",
    "print(device, \"status :\", status.status_msg)"
   ]
  },
  {
   "cell_type": "markdown",
   "metadata": {},
   "source": [
    "## Circuit Preparation\n",
    "\n",
    "The Quantinuum API accepts circuits in the [OpenQASM](https://github.com/Qiskit/openqasm) format. The benefit of using the Qiskit Quantinuum provider is that it supports conversion to and from the OpenQASM format before submission to a Quantinuum device. \n",
    "\n",
    "Note that qiskit may not have all additional capabilities enabled by the the Quantinuum OpenQASM Extension. See the *Extensions Example* notebook on the Quantinuum User Portal for information about Quantinuum-specific OpenQASM extensions.\n",
    "\n",
    "Here we generate a Bell-state preparation circuit using qiskit's `QuantumCircuit` object."
   ]
  },
  {
   "cell_type": "code",
   "execution_count": 5,
   "metadata": {},
   "outputs": [
    {
     "data": {
      "text/html": [
       "<pre style=\"word-wrap: normal;white-space: pre;background: #fff0;line-height: 1.1;font-family: &quot;Courier New&quot;,Courier,monospace\">        ┌───┐      ░ ┌─┐   \n",
       "   q_0: ┤ H ├──■───░─┤M├───\n",
       "        └───┘┌─┴─┐ ░ └╥┘┌─┐\n",
       "   q_1: ─────┤ X ├─░──╫─┤M├\n",
       "             └───┘ ░  ║ └╥┘\n",
       "   c: 2/══════════════╬══╬═\n",
       "                      ║  ║ \n",
       "meas: 2/══════════════╩══╩═\n",
       "                      0  1 </pre>"
      ],
      "text/plain": [
       "        ┌───┐      ░ ┌─┐   \n",
       "   q_0: ┤ H ├──■───░─┤M├───\n",
       "        └───┘┌─┴─┐ ░ └╥┘┌─┐\n",
       "   q_1: ─────┤ X ├─░──╫─┤M├\n",
       "             └───┘ ░  ║ └╥┘\n",
       "   c: 2/══════════════╬══╬═\n",
       "                      ║  ║ \n",
       "meas: 2/══════════════╩══╩═\n",
       "                      0  1 "
      ]
     },
     "execution_count": 5,
     "metadata": {},
     "output_type": "execute_result"
    }
   ],
   "source": [
    "n_qubits = 2\n",
    "circuit = QuantumCircuit(n_qubits, n_qubits, name='Bell Test')\n",
    "circuit.h(0)\n",
    "circuit.cx(0, 1)\n",
    "circuit.measure_all()\n",
    "\n",
    "circuit.draw()"
   ]
  },
  {
   "cell_type": "markdown",
   "metadata": {},
   "source": [
    "## Submit the Circuit\n",
    "\n",
    "Now we submit the circuit with the `execute` function.\n",
    "\n",
    "- `shots`: The number of times you want to run this quantum program"
   ]
  },
  {
   "cell_type": "code",
   "execution_count": 6,
   "metadata": {},
   "outputs": [],
   "source": [
    "shots = 100\n",
    "job = execute(circuit, backend, shots=shots)"
   ]
  },
  {
   "cell_type": "markdown",
   "metadata": {},
   "source": [
    "## Check Job Status\n",
    "\n",
    "Once submitted, a job's status can be checked using the `QuantinuumJob`'s `status` function. This will return information on whether the job has been queued or completed."
   ]
  },
  {
   "cell_type": "code",
   "execution_count": 7,
   "metadata": {},
   "outputs": [
    {
     "data": {
      "text/plain": [
       "<JobStatus.DONE: 'job has successfully run'>"
      ]
     },
     "execution_count": 7,
     "metadata": {},
     "output_type": "execute_result"
    }
   ],
   "source": [
    "job.status()"
   ]
  },
  {
   "cell_type": "markdown",
   "metadata": {},
   "source": [
    "## Return Results\n",
    "\n",
    "When a job completes the results can be fetched using the `result()` function."
   ]
  },
  {
   "cell_type": "code",
   "execution_count": 8,
   "metadata": {},
   "outputs": [
    {
     "name": "stdout",
     "output_type": "stream",
     "text": [
      "Job ID: f151861654594c8fb718541dede4476d\n",
      "Job success: True\n"
     ]
    }
   ],
   "source": [
    "result = job.result()\n",
    "\n",
    "print(\"Job ID:\", result.job_id)\n",
    "print(\"Job success:\", result.success)"
   ]
  },
  {
   "cell_type": "markdown",
   "metadata": {},
   "source": [
    "## Analyzing Results\n",
    "\n",
    "The `get_counts` function returns the aggregate outcomes of the experiment you ran.\n",
    "\n",
    "For the Bell Test we ran, the output bitstring should be `00` approximately 50 percent of the time. "
   ]
  },
  {
   "cell_type": "code",
   "execution_count": 9,
   "metadata": {},
   "outputs": [
    {
     "name": "stdout",
     "output_type": "stream",
     "text": [
      "Total count for 00 and 11 are: {'11': 52, '0': 47, '1': 1}\n"
     ]
    }
   ],
   "source": [
    "counts = result.get_counts()\n",
    "print(\"Total count for 00 and 11 are:\",counts)\n",
    "\n",
    "# Result should not be '0', it should be '00'!"
   ]
  },
  {
   "cell_type": "markdown",
   "metadata": {},
   "source": [
    "Qiskit provides many visualizations, including the function `plot_histogram`, to view your results if `matplotlib` is installed."
   ]
  },
  {
   "cell_type": "code",
   "execution_count": null,
   "metadata": {},
   "outputs": [],
   "source": [
    "plot_histogram(counts)"
   ]
  },
  {
   "cell_type": "markdown",
   "metadata": {},
   "source": [
    "## Saving Results\n",
    "\n",
    "It is **highly** recommended to save results after jobs are completed in order to avoid losing results. The Quantinuum data retention policy is found in the *Quantinuum Systems User Guide* under the *Examples* tab on the Quantinuum User Portal. Below the results are saved in a json file."
   ]
  },
  {
   "cell_type": "code",
   "execution_count": null,
   "metadata": {},
   "outputs": [],
   "source": [
    "import json\n",
    "\n",
    "with open(f'results_{result.job_id}.json', 'w') as f:\n",
    "    json.dump(result.get_counts(), f)"
   ]
  },
  {
   "cell_type": "markdown",
   "metadata": {},
   "source": [
    "## Results for Past Jobs\n",
    "\n",
    "You may wish to return the results for a job you ran that already completed.\n",
    "\n",
    "*Note:* When running multiple experiments, a `QOjb` object returns multiple `job_id`s. Currently, the only method of retrieving jobs is through an individual `job_id`. You can retrieve all `job_id`s from a job by running `job.job_ids()`"
   ]
  },
  {
   "cell_type": "code",
   "execution_count": null,
   "metadata": {},
   "outputs": [],
   "source": [
    "device = 'H1-2E'\n",
    "job_id = 'insert job id'\n",
    "backend = Quantinuum.get_backend(device)\n",
    "job = backend.retrieve_job(job_id)\n",
    "result = job.result()\n",
    "counts = result.get_counts()\n",
    "print(counts)"
   ]
  },
  {
   "cell_type": "markdown",
   "metadata": {},
   "source": [
    "## Submit to a Machine Family\n",
    "\n",
    "If you would like faster access to hardware between the available quantum computers, you can submit to a Hardware Family. Submitting this way will run the job on whatever device is available first that has the number of qubits needed to run the circuit. "
   ]
  },
  {
   "cell_type": "code",
   "execution_count": null,
   "metadata": {},
   "outputs": [],
   "source": [
    "device = 'H1'\n",
    "shots = 100\n",
    "\n",
    "backend = Quantinuum.get_backend(device)\n",
    "job = execute(circuit, backend, shots=shots)\n",
    "\n",
    "result = job.result()\n",
    "counts = result.get_counts()\n",
    "print(counts)"
   ]
  },
  {
   "cell_type": "markdown",
   "metadata": {},
   "source": [
    "## Recommended Workflow <a class=\"anchor\" id=\"recommended-workflow\"></a>\n",
    "\n",
    "Quantinuum provides device-specific syntax checkers and emulators in addition to quantum computing hardware. Quantum algorithm development takes a lot of time to create a quantum circuit, run on hardware, analyze results, and iterate. Within this loop it is common to go through multiple debugging cycles either due to code or circuit design. \n",
    "\n",
    "A recommended workflow for working with the Quantinuum hardware is the following:\n",
    "1. Syntax Checker\n",
    "2. Emulator\n",
    "3. Quantum Computer\n",
    "\n",
    "The first step will allow you to check whether or not your circuit will run on the quantum computer, whether there are any code mistakes. The second step will allow you to run on a device-specific emulator and analyze results. This will allow you to check the output to determine if it is what you expect. This will allow you to debug your circuit design. The Syntax Checkers and Emulators are available 24/7, allowing you to debug your code as needed befor submitting to a quantum computer.\n",
    "\n",
    "If you're using this Qiskit Quantinuum provider, step 1 should be taken care of for you since Qiskit handles the conversion of a qiskit `QuantumCircuit` object and OpenQASM. However, it may still be beneficial to test before using any H-System Quantum Credits. In addition, always submit to an emulator before submitting to a quantum computer. This will help you determine if any errors are occurring in your circuit design."
   ]
  },
  {
   "cell_type": "markdown",
   "metadata": {},
   "source": [
    "&copy; 2019-2022 Quantinuum. (www.quantinuum.com)\n",
    "\n",
    "Licensed under the Apache License, Version 2.0 (the \"License\");  \n",
    "you may not use this file except in compliance with the License.  \n",
    "You may obtain a copy of the License at:\n",
    "\n",
    "    http://www.apache.org/licenses/LICENSE-2.0\n",
    "\n",
    "Unless required by applicable law or agreed to in writing, software  \n",
    "distributed under the License is distributed on an \"AS IS\" BASIS,  \n",
    "WITHOUT WARRANTIES OR CONDITIONS OF ANY KIND, either  \n",
    "express or implied. See the License for the specific language  \n",
    "governing permissions and limitations under the License."
   ]
  }
 ],
 "metadata": {
  "kernelspec": {
   "display_name": "Python 3 (ipykernel)",
   "language": "python",
   "name": "python3"
  },
  "language_info": {
   "codemirror_mode": {
    "name": "ipython",
    "version": 3
   },
   "file_extension": ".py",
   "mimetype": "text/x-python",
   "name": "python",
   "nbconvert_exporter": "python",
   "pygments_lexer": "ipython3",
   "version": "3.10.6 (tags/v3.10.6:9c7b4bd, Aug  1 2022, 21:53:49) [MSC v.1932 64 bit (AMD64)]"
  },
  "vscode": {
   "interpreter": {
    "hash": "a914c74ffe388d3f33f9c76e73d82deea4e893aca18af73255d0d05ac2131336"
   }
  }
 },
 "nbformat": 4,
 "nbformat_minor": 2
}
